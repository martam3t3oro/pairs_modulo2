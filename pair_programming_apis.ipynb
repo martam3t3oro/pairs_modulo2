{
 "cells": [
  {
   "cell_type": "markdown",
   "metadata": {},
   "source": [
    "1. Extracción de Datos a Nivel Nacional:\n",
    "\n",
    "Extraer datos de generación de energía renovable y no renovable a nivel nacional desde el 1 de enero de 2011 hasta el 31 de diciembre de 2022. La información debe ser recopilada a nivel mensual.\n",
    "\n",
    "Transformar los datos para incluir una columna nueva que identifique si la energía es renovable o no renovable.\n",
    "\n",
    "Almacenar los datos en un DataFrame con la siguiente estructura:\n",
    "\n",
    "tipo_energia\ttipo_generacion\tfecha\tvalor"
   ]
  },
  {
   "cell_type": "code",
   "execution_count": 4,
   "metadata": {},
   "outputs": [],
   "source": [
    "\n",
    "import pandas as pd \n",
    "\n",
    "import requests\n",
    "\n",
    "import re\n",
    "\n",
    "pd.set_option('display.max_columns', None)"
   ]
  },
  {
   "cell_type": "code",
   "execution_count": 7,
   "metadata": {},
   "outputs": [],
   "source": [
    "def llamar_api(url_renovables_no):\n",
    "    llamada = requests.get(url_renovables_no)\n",
    "\n",
    "    print(f\"la llamada a la API nos ha dado una respuesta de tipo {llamada.status_code}\")\n",
    "\n",
    "    if llamada.status_code != 200:\n",
    "        print(f\"el motivo por el que la llamada falló es {llamada.reason}\")\n",
    "    \n",
    "    else:\n",
    "        return llamada.json()\n",
    "    "
   ]
  },
  {
   "cell_type": "code",
   "execution_count": 9,
   "metadata": {},
   "outputs": [
    {
     "name": "stdout",
     "output_type": "stream",
     "text": [
      "la llamada a la API nos ha dado una respuesta de tipo 400\n",
      "el motivo por el que la llamada falló es Bad Request\n"
     ]
    }
   ],
   "source": [
    "url_renovables_no = \"https://apidatos.ree.es/es/datos/generacion/estructura-generacion?start_date=2011-01-01T00:00&end_date=2022-12-31T23:59&time_trunc=month&geo_trunc=electric_system&geo_limit=peninsular&geo_ids=8741\"\n",
    "\n",
    "respuesta__renovables_no = llamar_api(url_renovables_no)\n",
    "\n",
    "respuesta__renovables_no"
   ]
  },
  {
   "cell_type": "code",
   "execution_count": 21,
   "metadata": {},
   "outputs": [
    {
     "name": "stdout",
     "output_type": "stream",
     "text": [
      "La llamada a la API nos ha dado una respuesta de tipo: 200\n"
     ]
    }
   ],
   "source": [
    "llamada = requests.get (url_energia)\n",
    "\n",
    "def llamar_api (url):\n",
    "    \n",
    "    print (f'La llamada a la API nos ha dado una respuesta de tipo: {llamada.status_code}')\n",
    "    if llamada.status_code != 200 :\n",
    "        print (f'El motivo por el que la llamada falló es {llamada.reason}')\n",
    "    \n",
    "    else: \n",
    "        return llamada.json ()\n",
    "    \n",
    "    \n",
    "# URL que quieres llamar\n",
    "url_energia = f'https://apidatos.ree.es/es/datos/generacion/estructura-generacion?start_date=2022-01-01T00:00&end_date=2022-12-31T23:59&time_trunc=month'\n",
    "# Llamamos a la función con la URL especificada\n",
    "datos_energia = llamar_api(url_energia)\n"
   ]
  },
  {
   "cell_type": "code",
   "execution_count": 22,
   "metadata": {},
   "outputs": [
    {
     "name": "stdout",
     "output_type": "stream",
     "text": [
      "{'data': {'type': 'Generación por tecnología', 'id': 'gen1', 'attributes': {'title': 'Generación por tecnología', 'last-update': '2022-12-12T12:48:47.000+01:00', 'description': None}, 'meta': {'cache-control': {'cache': 'HIT', 'expireAt': '2024-05-04T17:17:04'}}}, 'included': [{'type': 'Hidráulica', 'id': '10288', 'groupId': '1', 'attributes': {'title': 'Hidráulica', 'description': None, 'color': '#0090d1', 'type': 'Renovable', 'magnitude': None, 'composite': False, 'last-update': '2022-12-12T12:48:38.000+01:00', 'values': [{'value': 2085857.451, 'percentage': 0.08582950714262061, 'datetime': '2022-01-01T00:00:00.000+01:00'}, {'value': 1174970.17, 'percentage': 0.05563114753653532, 'datetime': '2022-02-01T00:00:00.000+01:00'}, {'value': 1775478.144, 'percentage': 0.07797540348807623, 'datetime': '2022-03-01T00:00:00.000+01:00'}, {'value': 1802751.588, 'percentage': 0.08279938338802582, 'datetime': '2022-04-01T00:00:00.000+02:00'}, {'value': 1923714.557, 'percentage': 0.08720971736882878, 'datetime': '2022-05-01T00:00:00.000+02:00'}, {'value': 1192915.008, 'percentage': 0.05129290136302024, 'datetime': '2022-06-01T00:00:00.000+02:00'}, {'value': 1045015.928, 'percentage': 0.03954639976926664, 'datetime': '2022-07-01T00:00:00.000+02:00'}, {'value': 973565.249, 'percentage': 0.03850230836528236, 'datetime': '2022-08-01T00:00:00.000+02:00'}, {'value': 1154833.141, 'percentage': 0.04879670721717572, 'datetime': '2022-09-01T00:00:00.000+02:00'}, {'value': 719585.021, 'percentage': 0.03277299877648625, 'datetime': '2022-10-01T00:00:00.000+02:00'}, {'value': 1311831.73, 'percentage': 0.06095129048897448, 'datetime': '2022-11-01T00:00:00.000+01:00'}, {'value': 2750595.903, 'percentage': 0.12372921092812118, 'datetime': '2022-12-01T00:00:00.000+01:00'}]}}, {'type': 'Turbinación bombeo', 'id': '1445', 'groupId': '1', 'attributes': {'title': 'Turbinación bombeo', 'description': None, 'color': '#007cf9', 'type': 'No-Renovable', 'magnitude': None, 'composite': False, 'last-update': '2023-11-28T14:44:18.000+01:00', 'values': [{'value': 215637.741, 'percentage': 0.008873128421362135, 'datetime': '2022-01-01T00:00:00.000+01:00'}, {'value': 285079.947, 'percentage': 0.013497640192231153, 'datetime': '2022-02-01T00:00:00.000+01:00'}, {'value': 273848.153, 'percentage': 0.012026856143963567, 'datetime': '2022-03-01T00:00:00.000+01:00'}, {'value': 336712.619, 'percentage': 0.015465024364836266, 'datetime': '2022-04-01T00:00:00.000+02:00'}, {'value': 300017.69, 'percentage': 0.013601008452809087, 'datetime': '2022-05-01T00:00:00.000+02:00'}, {'value': 271315.011, 'percentage': 0.011665989617199746, 'datetime': '2022-06-01T00:00:00.000+02:00'}, {'value': 216663.274, 'percentage': 0.008199159667662171, 'datetime': '2022-07-01T00:00:00.000+02:00'}, {'value': 339437.288, 'percentage': 0.013423978666735626, 'datetime': '2022-08-01T00:00:00.000+02:00'}, {'value': 304785.767, 'percentage': 0.01287852011536733, 'datetime': '2022-09-01T00:00:00.000+02:00'}, {'value': 385629.677, 'percentage': 0.017563235147577908, 'datetime': '2022-10-01T00:00:00.000+02:00'}, {'value': 361663.867, 'percentage': 0.016803892536493864, 'datetime': '2022-11-01T00:00:00.000+01:00'}, {'value': 485359.059, 'percentage': 0.021832757520429354, 'datetime': '2022-12-01T00:00:00.000+01:00'}]}}, {'type': 'Nuclear', 'id': '1446', 'groupId': '1', 'attributes': {'title': 'Nuclear', 'description': None, 'color': '#464394', 'type': 'No-Renovable', 'magnitude': None, 'composite': False, 'last-update': '2023-11-28T14:44:18.000+01:00', 'values': [{'value': 5048424.951, 'percentage': 0.20773415037691312, 'datetime': '2022-01-01T00:00:00.000+01:00'}, {'value': 4771058.269, 'percentage': 0.22589462545091327, 'datetime': '2022-02-01T00:00:00.000+01:00'}, {'value': 4766690.052, 'percentage': 0.20934337117207513, 'datetime': '2022-03-01T00:00:00.000+01:00'}, {'value': 4414715.447, 'percentage': 0.202765438831605, 'datetime': '2022-04-01T00:00:00.000+02:00'}, {'value': 4066355.361, 'percentage': 0.18434424195815435, 'datetime': '2022-05-01T00:00:00.000+02:00'}, {'value': 4459458.308, 'percentage': 0.19174757094240963, 'datetime': '2022-06-01T00:00:00.000+02:00'}, {'value': 5073367.597, 'percentage': 0.19199078003661363, 'datetime': '2022-07-01T00:00:00.000+02:00'}, {'value': 5122046.93, 'percentage': 0.2025653961692585, 'datetime': '2022-08-01T00:00:00.000+02:00'}, {'value': 4847367.123, 'percentage': 0.20482227767586586, 'datetime': '2022-09-01T00:00:00.000+02:00'}, {'value': 4021338.375, 'percentage': 0.18314905646668844, 'datetime': '2022-10-01T00:00:00.000+02:00'}, {'value': 4182092.888, 'percentage': 0.19431147504593613, 'datetime': '2022-11-01T00:00:00.000+01:00'}, {'value': 5161189.944, 'percentage': 0.23216422249621665, 'datetime': '2022-12-01T00:00:00.000+01:00'}]}}, {'type': 'Carbón', 'id': '10289', 'groupId': '1', 'attributes': {'title': 'Carbón', 'description': None, 'color': '#993300', 'type': 'No-Renovable', 'magnitude': None, 'composite': False, 'last-update': '2022-02-08T09:13:13.000+01:00', 'values': [{'value': 709963.219, 'percentage': 0.029213785988560552, 'datetime': '2022-01-01T00:00:00.000+01:00'}, {'value': 568629.528, 'percentage': 0.02692282236050167, 'datetime': '2022-02-01T00:00:00.000+01:00'}, {'value': 705226.125, 'percentage': 0.03097210282933648, 'datetime': '2022-03-01T00:00:00.000+01:00'}, {'value': 691004.601, 'percentage': 0.03173745914963455, 'datetime': '2022-04-01T00:00:00.000+02:00'}, {'value': 527154.558, 'percentage': 0.023898036143451533, 'datetime': '2022-05-01T00:00:00.000+02:00'}, {'value': 833036.37, 'percentage': 0.03581885722928086, 'datetime': '2022-06-01T00:00:00.000+02:00'}, {'value': 882232.497, 'percentage': 0.03338620788543649, 'datetime': '2022-07-01T00:00:00.000+02:00'}, {'value': 819592.534, 'percentage': 0.03241303498698644, 'datetime': '2022-08-01T00:00:00.000+02:00'}, {'value': 632066.719, 'percentage': 0.026707559329355854, 'datetime': '2022-09-01T00:00:00.000+02:00'}, {'value': 380331.127, 'percentage': 0.01732191637689834, 'datetime': '2022-10-01T00:00:00.000+02:00'}, {'value': 319685.821, 'percentage': 0.014853477694869674, 'datetime': '2022-11-01T00:00:00.000+01:00'}, {'value': 693262.892, 'percentage': 0.0311848318029387, 'datetime': '2022-12-01T00:00:00.000+01:00'}]}}, {'type': 'Fuel + Gas', 'id': '10290', 'groupId': '1', 'attributes': {'title': 'Fuel + Gas', 'description': None, 'color': '#ba0f16', 'type': 'No-Renovable', 'magnitude': None, 'composite': False, 'last-update': '2023-11-11T13:24:40.000+01:00', 'values': [{'value': 0, 'percentage': 0, 'datetime': '2022-09-01T00:00:00.000+02:00'}, {'value': 0, 'percentage': 0, 'datetime': '2022-10-01T00:00:00.000+02:00'}]}}, {'type': 'Motores diésel', 'id': '10344', 'groupId': '1', 'attributes': {'title': 'Motores diésel', 'description': None, 'color': '#8DA69F', 'type': 'No-Renovable', 'magnitude': None, 'composite': False, 'last-update': '2022-02-08T09:13:13.000+01:00', 'values': [{'value': 210125.165, 'percentage': 0.00864629524014958, 'datetime': '2022-01-01T00:00:00.000+01:00'}, {'value': 185575.526, 'percentage': 0.0087864183531367, 'datetime': '2022-02-01T00:00:00.000+01:00'}, {'value': 207451.405, 'percentage': 0.009110845472082204, 'datetime': '2022-03-01T00:00:00.000+01:00'}, {'value': 205100.239, 'percentage': 0.009420140542367797, 'datetime': '2022-04-01T00:00:00.000+02:00'}, {'value': 215844.38, 'percentage': 0.009785093795206997, 'datetime': '2022-05-01T00:00:00.000+02:00'}, {'value': 224846.99, 'percentage': 0.009667959915415867, 'datetime': '2022-06-01T00:00:00.000+02:00'}, {'value': 242769.399, 'percentage': 0.009187090308731258, 'datetime': '2022-07-01T00:00:00.000+02:00'}, {'value': 245672.779, 'percentage': 0.009715803952256583, 'datetime': '2022-08-01T00:00:00.000+02:00'}, {'value': 216066.758, 'percentage': 0.009129757326119512, 'datetime': '2022-09-01T00:00:00.000+02:00'}, {'value': 202310.788, 'percentage': 0.009214103982292273, 'datetime': '2022-10-01T00:00:00.000+02:00'}, {'value': 192196.611, 'percentage': 0.008929980271217733, 'datetime': '2022-11-01T00:00:00.000+01:00'}, {'value': 200241.645, 'percentage': 0.009007408432397043, 'datetime': '2022-12-01T00:00:00.000+01:00'}]}}, {'type': 'Turbina de gas', 'id': '1450', 'groupId': '1', 'attributes': {'title': 'Turbina de gas', 'description': None, 'color': '#00ccff', 'type': 'No-Renovable', 'magnitude': None, 'composite': False, 'last-update': '2023-11-28T14:44:18.000+01:00', 'values': [{'value': 34446.764, 'percentage': 0.0014174260927374213, 'datetime': '2022-01-01T00:00:00.000+01:00'}, {'value': 34328.002, 'percentage': 0.0016253230870503545, 'datetime': '2022-02-01T00:00:00.000+01:00'}, {'value': 38861.629, 'percentage': 0.0017067240234520872, 'datetime': '2022-03-01T00:00:00.000+01:00'}, {'value': 34572.36, 'percentage': 0.001587889373845804, 'datetime': '2022-04-01T00:00:00.000+02:00'}, {'value': 42307.777, 'percentage': 0.0019179816783355737, 'datetime': '2022-05-01T00:00:00.000+02:00'}, {'value': 47734.012, 'percentage': 0.0020524647210886835, 'datetime': '2022-06-01T00:00:00.000+02:00'}, {'value': 79729.885, 'percentage': 0.00301720750974779, 'datetime': '2022-07-01T00:00:00.000+02:00'}, {'value': 85532.472, 'percentage': 0.0033826162299563332, 'datetime': '2022-08-01T00:00:00.000+02:00'}, {'value': 84422.616, 'percentage': 0.0035672215571271467, 'datetime': '2022-09-01T00:00:00.000+02:00'}, {'value': 79275.334, 'percentage': 0.0036105398922520633, 'datetime': '2022-10-01T00:00:00.000+02:00'}, {'value': 47409.887, 'percentage': 0.0022027930324466653, 'datetime': '2022-11-01T00:00:00.000+01:00'}, {'value': 48856.536, 'percentage': 0.002197698557381057, 'datetime': '2022-12-01T00:00:00.000+01:00'}]}}, {'type': 'Turbina de vapor', 'id': '1451', 'groupId': '1', 'attributes': {'title': 'Turbina de vapor', 'description': None, 'color': '#AF8E00', 'type': 'No-Renovable', 'magnitude': None, 'composite': False, 'last-update': '2023-11-28T14:44:19.000+01:00', 'values': [{'value': 117429.802, 'percentage': 0.004832037790829612, 'datetime': '2022-01-01T00:00:00.000+01:00'}, {'value': 102630.663, 'percentage': 0.004859239579780513, 'datetime': '2022-02-01T00:00:00.000+01:00'}, {'value': 114410.944, 'percentage': 0.005024696897565242, 'datetime': '2022-03-01T00:00:00.000+01:00'}, {'value': 103636.366, 'percentage': 0.004759960972157948, 'datetime': '2022-04-01T00:00:00.000+02:00'}, {'value': 86849.653, 'percentage': 0.003937244049097692, 'datetime': '2022-05-01T00:00:00.000+02:00'}, {'value': 60625.901, 'percentage': 0.0026067895358704634, 'datetime': '2022-06-01T00:00:00.000+02:00'}, {'value': 73212.087, 'percentage': 0.0027705553407070455, 'datetime': '2022-07-01T00:00:00.000+02:00'}, {'value': 102417.013, 'percentage': 0.004050361719902692, 'datetime': '2022-08-01T00:00:00.000+02:00'}, {'value': 110953.991, 'percentage': 0.004688287182956892, 'datetime': '2022-09-01T00:00:00.000+02:00'}, {'value': 118598.82, 'percentage': 0.005401500683478948, 'datetime': '2022-10-01T00:00:00.000+02:00'}, {'value': 93771.169, 'percentage': 0.004356865008296238, 'datetime': '2022-11-01T00:00:00.000+01:00'}, {'value': 122696.655, 'percentage': 0.005519225957586949, 'datetime': '2022-12-01T00:00:00.000+01:00'}]}}, {'type': 'Ciclo combinado', 'id': '1454', 'groupId': '1', 'attributes': {'title': 'Ciclo combinado', 'description': None, 'color': '#ffcc66', 'type': 'No-Renovable', 'magnitude': None, 'composite': False, 'last-update': '2023-11-28T14:44:19.000+01:00', 'values': [{'value': 5898394.445, 'percentage': 0.24270895784580693, 'datetime': '2022-01-01T00:00:00.000+01:00'}, {'value': 4671261.013, 'percentage': 0.22116953879422188, 'datetime': '2022-02-01T00:00:00.000+01:00'}, {'value': 3873334.98, 'percentage': 0.17010902608440087, 'datetime': '2022-03-01T00:00:00.000+01:00'}, {'value': 3146865.903, 'percentage': 0.14453381048593097, 'datetime': '2022-04-01T00:00:00.000+02:00'}, {'value': 3713639.285, 'percentage': 0.16835420373368282, 'datetime': '2022-05-01T00:00:00.000+02:00'}, {'value': 6478943.796, 'percentage': 0.27858130951168314, 'datetime': '2022-06-01T00:00:00.000+02:00'}, {'value': 8460442.205, 'percentage': 0.3201673971649796, 'datetime': '2022-07-01T00:00:00.000+02:00'}, {'value': 8082025.29, 'percentage': 0.3196258599525984, 'datetime': '2022-08-01T00:00:00.000+02:00'}, {'value': 7704899.046, 'percentage': 0.3255653908234683, 'datetime': '2022-09-01T00:00:00.000+02:00'}, {'value': 7066690.782, 'percentage': 0.32184751154275715, 'datetime': '2022-10-01T00:00:00.000+02:00'}, {'value': 4672403.057, 'percentage': 0.21709262666544846, 'datetime': '2022-11-01T00:00:00.000+01:00'}, {'value': 4368588.275, 'percentage': 0.19651086498967715, 'datetime': '2022-12-01T00:00:00.000+01:00'}]}}, {'type': 'Hidroeólica', 'id': '1455', 'groupId': '1', 'attributes': {'title': 'Hidroeólica', 'description': None, 'color': '#00FFFF', 'type': 'Renovable', 'magnitude': None, 'composite': False, 'last-update': '2023-11-28T14:44:19.000+01:00', 'values': [{'value': 1110.916, 'percentage': 4.57123149576397e-05, 'datetime': '2022-01-01T00:00:00.000+01:00'}, {'value': 1482.045, 'percentage': 7.017017636352803e-05, 'datetime': '2022-02-01T00:00:00.000+01:00'}, {'value': 2126.323, 'percentage': 9.338379885513066e-05, 'datetime': '2022-03-01T00:00:00.000+01:00'}, {'value': 1752.528, 'percentage': 8.049264176837332e-05, 'datetime': '2022-04-01T00:00:00.000+02:00'}, {'value': 1917.174, 'percentage': 8.691320761621026e-05, 'datetime': '2022-05-01T00:00:00.000+02:00'}, {'value': 2449.56, 'percentage': 0.00010532606147143038, 'datetime': '2022-06-01T00:00:00.000+02:00'}, {'value': 3562.943, 'percentage': 0.00013483198146345402, 'datetime': '2022-07-01T00:00:00.000+02:00'}, {'value': 3517.675, 'percentage': 0.0001391161072336556, 'datetime': '2022-08-01T00:00:00.000+02:00'}, {'value': 2075.095, 'percentage': 8.768176073916919e-05, 'datetime': '2022-09-01T00:00:00.000+02:00'}, {'value': 1350.072, 'percentage': 6.148808926383744e-05, 'datetime': '2022-10-01T00:00:00.000+02:00'}, {'value': 1169.409, 'percentage': 5.4333940877784046e-05, 'datetime': '2022-11-01T00:00:00.000+01:00'}, {'value': 367.104, 'percentage': 1.651332651190857e-05, 'datetime': '2022-12-01T00:00:00.000+01:00'}]}}, {'type': 'Eólica', 'id': '10291', 'groupId': '1', 'attributes': {'title': 'Eólica', 'description': None, 'color': '#6fb114', 'type': 'Renovable', 'magnitude': None, 'composite': False, 'last-update': '2022-05-10T09:36:22.000+02:00', 'values': [{'value': 5414777.16, 'percentage': 0.22280892431412802, 'datetime': '2022-01-01T00:00:00.000+01:00'}, {'value': 4712962.772, 'percentage': 0.22314398611781822, 'datetime': '2022-02-01T00:00:00.000+01:00'}, {'value': 6528551.21, 'percentage': 0.2867207442190391, 'datetime': '2022-03-01T00:00:00.000+01:00'}, {'value': 5655805.975, 'percentage': 0.2597680403720228, 'datetime': '2022-04-01T00:00:00.000+02:00'}, {'value': 4687840.198, 'percentage': 0.21251864901171735, 'datetime': '2022-05-01T00:00:00.000+02:00'}, {'value': 3811046.039, 'percentage': 0.16386717180806562, 'datetime': '2022-06-01T00:00:00.000+02:00'}, {'value': 4566874.672, 'percentage': 0.17282363515807625, 'datetime': '2022-07-01T00:00:00.000+02:00'}, {'value': 4261724.164, 'percentage': 0.1685415724304506, 'datetime': '2022-08-01T00:00:00.000+02:00'}, {'value': 4192568.413, 'percentage': 0.1771541931676691, 'datetime': '2022-09-01T00:00:00.000+02:00'}, {'value': 5101234.296, 'percentage': 0.23233216432027104, 'datetime': '2022-10-01T00:00:00.000+02:00'}, {'value': 6681883.514, 'percentage': 0.3104585853212314, 'datetime': '2022-11-01T00:00:00.000+01:00'}, {'value': 5579328.619, 'percentage': 0.2509732261233409, 'datetime': '2022-12-01T00:00:00.000+01:00'}]}}, {'type': 'Solar fotovoltaica', 'id': '1458', 'groupId': '1', 'attributes': {'title': 'Solar fotovoltaica', 'description': None, 'color': '#e48500', 'type': 'Renovable', 'magnitude': None, 'composite': False, 'last-update': '2023-11-28T14:44:20.000+01:00', 'values': [{'value': 1569291.684, 'percentage': 0.06457369928906667, 'datetime': '2022-01-01T00:00:00.000+01:00'}, {'value': 1693011.465, 'percentage': 0.08015877593765706, 'datetime': '2022-02-01T00:00:00.000+01:00'}, {'value': 1455804.583, 'percentage': 0.06393598825354821, 'datetime': '2022-03-01T00:00:00.000+01:00'}, {'value': 2582036.214, 'percentage': 0.11859149526082831, 'datetime': '2022-04-01T00:00:00.000+02:00'}, {'value': 3352974.12, 'percentage': 0.1520038013364149, 'datetime': '2022-05-01T00:00:00.000+02:00'}, {'value': 3223717.662, 'percentage': 0.13861325488428444, 'datetime': '2022-06-01T00:00:00.000+02:00'}, {'value': 3391443.749, 'percentage': 0.12834195795428524, 'datetime': '2022-07-01T00:00:00.000+02:00'}, {'value': 3240414.313, 'percentage': 0.12815107281052981, 'datetime': '2022-08-01T00:00:00.000+02:00'}, {'value': 2698499.156, 'percentage': 0.11402328922350156, 'datetime': '2022-09-01T00:00:00.000+02:00'}, {'value': 2025695.111, 'percentage': 0.09225887345748013, 'datetime': '2022-10-01T00:00:00.000+02:00'}, {'value': 1541121.356, 'percentage': 0.07160471369930825, 'datetime': '2022-11-01T00:00:00.000+01:00'}, {'value': 1132010.862, 'percentage': 0.05092089701891855, 'datetime': '2022-12-01T00:00:00.000+01:00'}]}}, {'type': 'Solar térmica', 'id': '1459', 'groupId': '1', 'attributes': {'title': 'Solar térmica', 'description': None, 'color': '#ff0000', 'type': 'Renovable', 'magnitude': None, 'composite': False, 'last-update': '2023-11-28T14:44:20.000+01:00', 'values': [{'value': 170978.835, 'percentage': 0.007035489952985024, 'datetime': '2022-01-01T00:00:00.000+01:00'}, {'value': 208192.368, 'percentage': 0.009857254793275863, 'datetime': '2022-02-01T00:00:00.000+01:00'}, {'value': 120568.374, 'percentage': 0.0052951187500234745, 'datetime': '2022-03-01T00:00:00.000+01:00'}, {'value': 412777.61, 'percentage': 0.018958647332159777, 'datetime': '2022-04-01T00:00:00.000+02:00'}, {'value': 621247.495, 'percentage': 0.028163647386197362, 'datetime': '2022-05-01T00:00:00.000+02:00'}, {'value': 534217.867, 'percentage': 0.022970273803776357, 'datetime': '2022-06-01T00:00:00.000+02:00'}, {'value': 667235.596, 'percentage': 0.02525010855116927, 'datetime': '2022-07-01T00:00:00.000+02:00'}, {'value': 619958.99, 'percentage': 0.02451797887334925, 'datetime': '2022-08-01T00:00:00.000+02:00'}, {'value': 437343.279, 'percentage': 0.018479649726957904, 'datetime': '2022-09-01T00:00:00.000+02:00'}, {'value': 166128.813, 'percentage': 0.0075662211223100385, 'datetime': '2022-10-01T00:00:00.000+02:00'}, {'value': 104765.418, 'percentage': 0.004867687889907066, 'datetime': '2022-11-01T00:00:00.000+01:00'}, {'value': 59778.183, 'percentage': 0.0026889836508663004, 'datetime': '2022-12-01T00:00:00.000+01:00'}]}}, {'type': 'Otras renovables', 'id': '10292', 'groupId': '1', 'attributes': {'title': 'Otras renovables', 'description': None, 'color': '#9a5cbc', 'type': 'Renovable', 'magnitude': None, 'composite': False, 'last-update': '2022-12-12T12:48:47.000+01:00', 'values': [{'value': 428663.218, 'percentage': 0.017638766596188522, 'datetime': '2022-01-01T00:00:00.000+01:00'}, {'value': 374913.003, 'percentage': 0.017750953271654987, 'datetime': '2022-02-01T00:00:00.000+01:00'}, {'value': 423881.738, 'percentage': 0.01861602727325773, 'datetime': '2022-03-01T00:00:00.000+01:00'}, {'value': 430376.969, 'percentage': 0.019766976157342596, 'datetime': '2022-04-01T00:00:00.000+02:00'}, {'value': 397336.793, 'percentage': 0.018012874774834292, 'datetime': '2022-05-01T00:00:00.000+02:00'}, {'value': 415880.257, 'percentage': 0.01788199901759347, 'datetime': '2022-06-01T00:00:00.000+02:00'}, {'value': 409345.595, 'percentage': 0.015490811297622935, 'datetime': '2022-07-01T00:00:00.000+02:00'}, {'value': 383456.347, 'percentage': 0.015164833103876242, 'datetime': '2022-08-01T00:00:00.000+02:00'}, {'value': 341441.063, 'percentage': 0.01442736529773027, 'datetime': '2022-09-01T00:00:00.000+02:00'}, {'value': 367411.857, 'percentage': 0.016733517219680343, 'datetime': '2022-10-01T00:00:00.000+02:00'}, {'value': 365868.145, 'percentage': 0.016999234792527268, 'datetime': '2022-11-01T00:00:00.000+01:00'}, {'value': 321123.295, 'percentage': 0.014444990577370274, 'datetime': '2022-12-01T00:00:00.000+01:00'}]}}, {'type': 'Cogeneración', 'id': '10293', 'groupId': '1', 'attributes': {'title': 'Cogeneración', 'description': None, 'color': '#cfa2ca', 'type': 'No-Renovable', 'magnitude': None, 'composite': False, 'last-update': '2022-05-10T09:36:31.000+02:00', 'values': [{'value': 2147921.609, 'percentage': 0.08838334230034336, 'datetime': '2022-01-01T00:00:00.000+01:00'}, {'value': 2119152.721, 'percentage': 0.10033522610569874, 'datetime': '2022-02-01T00:00:00.000+01:00'}, {'value': 2217421.993, 'percentage': 0.09738468208793064, 'datetime': '2022-03-01T00:00:00.000+01:00'}, {'value': 1709641.202, 'percentage': 0.07852287485565833, 'datetime': '2022-04-01T00:00:00.000+02:00'}, {'value': 1870740.241, 'percentage': 0.08480817858057339, 'datetime': '2022-05-01T00:00:00.000+02:00'}, {'value': 1467878.881, 'percentage': 0.06311578457062511, 'datetime': '2022-06-01T00:00:00.000+02:00'}, {'value': 1056410.114, 'percentage': 0.039977588445465825, 'datetime': '2022-07-01T00:00:00.000+02:00'}, {'value': 776246.574, 'percentage': 0.030698800096183355, 'datetime': '2022-08-01T00:00:00.000+02:00'}, {'value': 739201.649, 'percentage': 0.031234474626760374, 'datetime': '2022-09-01T00:00:00.000+02:00'}, {'value': 1094108.793, 'percentage': 0.04983042321323118, 'datetime': '2022-10-01T00:00:00.000+02:00'}, {'value': 1451635.239, 'percentage': 0.06744694392803023, 'datetime': '2022-11-01T00:00:00.000+01:00'}, {'value': 1099432.043, 'percentage': 0.049455414007239656, 'datetime': '2022-12-01T00:00:00.000+01:00'}]}}, {'type': 'Residuos no renovables', 'id': '10294', 'groupId': '1', 'attributes': {'title': 'Residuos no renovables', 'description': None, 'color': '#666666', 'type': 'No-Renovable', 'magnitude': None, 'composite': False, 'last-update': '2022-02-08T09:13:18.000+01:00', 'values': [{'value': 169946.929, 'percentage': 0.006993028765929767, 'datetime': '2022-01-01T00:00:00.000+01:00'}, {'value': 144546.716, 'percentage': 0.006843833051283056, 'datetime': '2022-02-01T00:00:00.000+01:00'}, {'value': 183995.6055, 'percentage': 0.008080714272591686, 'datetime': '2022-03-01T00:00:00.000+01:00'}, {'value': 171926.116, 'percentage': 0.007896471420608285, 'datetime': '2022-04-01T00:00:00.000+02:00'}, {'value': 170585.1775, 'percentage': 0.007733312129366233, 'datetime': '2022-05-01T00:00:00.000+02:00'}, {'value': 155909.442, 'percentage': 0.006703786587006814, 'datetime': '2022-06-01T00:00:00.000+02:00'}, {'value': 181020.4545, 'percentage': 0.00685033315594721, 'datetime': '2022-07-01T00:00:00.000+02:00'}, {'value': 164797.2165, 'percentage': 0.006517357982878453, 'datetime': '2022-08-01T00:00:00.000+02:00'}, {'value': 140017.969, 'percentage': 0.005916366266143194, 'datetime': '2022-09-01T00:00:00.000+02:00'}, {'value': 155069.311, 'percentage': 0.007062523803804367, 'datetime': '2022-10-01T00:00:00.000+02:00'}, {'value': 127590.5435, 'percentage': 0.005928205655244087, 'datetime': '2022-11-01T00:00:00.000+01:00'}, {'value': 134668.0325, 'percentage': 0.0060577307558316315, 'datetime': '2022-12-01T00:00:00.000+01:00'}]}}, {'type': 'Residuos renovables', 'id': '10295', 'groupId': '1', 'attributes': {'title': 'Residuos renovables', 'description': None, 'color': '#a0a0a0', 'type': 'Renovable', 'magnitude': None, 'composite': False, 'last-update': '2022-02-08T09:13:18.000+01:00', 'values': [{'value': 79365.292, 'percentage': 0.0032657475674209777, 'datetime': '2022-01-01T00:00:00.000+01:00'}, {'value': 72930.818, 'percentage': 0.0034530451918776853, 'datetime': '2022-02-01T00:00:00.000+01:00'}, {'value': 82069.2505, 'percentage': 0.0036043152338018874, 'datetime': '2022-03-01T00:00:00.000+01:00'}, {'value': 72848.577, 'percentage': 0.003345894851207376, 'datetime': '2022-04-01T00:00:00.000+02:00'}, {'value': 79964.1475, 'percentage': 0.0036250963937132265, 'datetime': '2022-05-01T00:00:00.000+02:00'}, {'value': 76946.932, 'percentage': 0.0033085604312080427, 'datetime': '2022-06-01T00:00:00.000+02:00'}, {'value': 75732.5205, 'percentage': 0.0028659357728250635, 'datetime': '2022-07-01T00:00:00.000+02:00'}, {'value': 65488.1505, 'percentage': 0.0025899085525217017, 'datetime': '2022-08-01T00:00:00.000+02:00'}, {'value': 59668.639, 'percentage': 0.00252125870306172, 'datetime': '2022-09-01T00:00:00.000+02:00'}, {'value': 71884.421, 'percentage': 0.0032739259055274616, 'datetime': '2022-10-01T00:00:00.000+02:00'}, {'value': 67535.7145, 'percentage': 0.00313789402919073, 'datetime': '2022-11-01T00:00:00.000+01:00'}, {'value': 73273.1555, 'percentage': 0.0032960238551727828, 'datetime': '2022-12-01T00:00:00.000+01:00'}]}}, {'type': 'Generación total', 'id': '1', 'groupId': '1', 'attributes': {'title': 'Generación total', 'description': None, 'color': '#2b2e34', 'type': 'Generación total', 'magnitude': None, 'composite': True, 'last-update': '2022-12-12T12:48:38.000+01:00', 'values': [{'value': 24302335.181, 'percentage': 1, 'datetime': '2022-01-01T00:00:00.000+01:00'}, {'value': 21120725.026, 'percentage': 1, 'datetime': '2022-02-01T00:00:00.000+01:00'}, {'value': 22769720.509000007, 'percentage': 1, 'datetime': '2022-03-01T00:00:00.000+01:00'}, {'value': 21772524.314, 'percentage': 1, 'datetime': '2022-04-01T00:00:00.000+02:00'}, {'value': 22058488.607000005, 'percentage': 1, 'datetime': '2022-05-01T00:00:00.000+02:00'}, {'value': 23256922.036000002, 'percentage': 1, 'datetime': '2022-06-01T00:00:00.000+02:00'}, {'value': 26425058.516000003, 'percentage': 1, 'datetime': '2022-07-01T00:00:00.000+02:00'}, {'value': 25285892.985, 'percentage': 1, 'datetime': '2022-08-01T00:00:00.000+02:00'}, {'value': 23666210.424000002, 'percentage': 1, 'datetime': '2022-09-01T00:00:00.000+02:00'}, {'value': 21956642.598000005, 'percentage': 1, 'datetime': '2022-10-01T00:00:00.000+02:00'}, {'value': 21522624.369, 'percentage': 1, 'datetime': '2022-11-01T00:00:00.000+01:00'}, {'value': 22230772.202999998, 'percentage': 1, 'datetime': '2022-12-01T00:00:00.000+01:00'}]}}]}\n"
     ]
    }
   ],
   "source": [
    "ver_json = llamada.json()\n",
    "\n",
    "print(ver_json)"
   ]
  },
  {
   "cell_type": "code",
   "execution_count": 23,
   "metadata": {},
   "outputs": [
    {
     "data": {
      "text/plain": [
       "dict_keys(['data', 'included'])"
      ]
     },
     "execution_count": 23,
     "metadata": {},
     "output_type": "execute_result"
    }
   ],
   "source": [
    "ver_json.keys()"
   ]
  },
  {
   "cell_type": "code",
   "execution_count": 42,
   "metadata": {},
   "outputs": [
    {
     "data": {
      "text/plain": [
       "'2022-01-01T00:00:00.000+01:00'"
      ]
     },
     "execution_count": 42,
     "metadata": {},
     "output_type": "execute_result"
    }
   ],
   "source": [
    "ver_json[\"included\"][2][\"attributes\"][\"values\"][0][\"datetime\"]"
   ]
  },
  {
   "cell_type": "code",
   "execution_count": 51,
   "metadata": {},
   "outputs": [
    {
     "name": "stdout",
     "output_type": "stream",
     "text": [
      "2\n",
      "0\n",
      "2\n",
      "2\n",
      "-\n",
      "0\n",
      "1\n",
      "-\n",
      "0\n",
      "1\n",
      "T\n",
      "0\n",
      "0\n",
      ":\n",
      "0\n",
      "0\n",
      ":\n",
      "0\n",
      "0\n",
      ".\n",
      "0\n",
      "0\n",
      "0\n",
      "+\n",
      "0\n",
      "1\n",
      ":\n",
      "0\n",
      "0\n"
     ]
    }
   ],
   "source": [
    "energia_ano2022_mes = []\n",
    "\n",
    "for mes in ver_json[\"included\"][2][\"attributes\"][\"values\"][0][\"datetime\"]:\n",
    "\n",
    "    print(mes)"
   ]
  }
 ],
 "metadata": {
  "kernelspec": {
   "display_name": "base",
   "language": "python",
   "name": "python3"
  },
  "language_info": {
   "codemirror_mode": {
    "name": "ipython",
    "version": 3
   },
   "file_extension": ".py",
   "mimetype": "text/x-python",
   "name": "python",
   "nbconvert_exporter": "python",
   "pygments_lexer": "ipython3",
   "version": "3.9.7"
  }
 },
 "nbformat": 4,
 "nbformat_minor": 2
}
